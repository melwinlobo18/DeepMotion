{
 "cells": [
  {
   "cell_type": "code",
   "execution_count": null,
   "metadata": {},
   "outputs": [],
   "source": [
    "import time\n",
    "import collections\n",
    "import Leap\n",
    "from Leap import Bone\n",
    "\n",
    "import csv\n",
    "\n",
    "'''\n",
    "Gets the current frame from controller\n",
    "for each finger, stores the topmost end of each bone (4 points)\n",
    "adjusts bone location relativity by subtracting the center of the palm\n",
    "returns the adjusted bone locations in the form:\n",
    "{feat0=some_float, feat1=some_float, ... feat59=some_float}\n",
    "'''\n",
    "\n",
    "def get_hand_position(controller, blocking=False):\n",
    "    cols_to_norm = ['feat1', 'feat2', 'feat3', 'feat4', 'feat5', 'feat6', 'feat7', 'feat8',\n",
    "       'feat9', 'feat10', 'feat11', 'feat12', 'feat13', 'feat14', 'feat15',\n",
    "       'feat16', 'feat17', 'feat18', 'feat19', 'feat20', 'feat21', 'feat22',\n",
    "       'feat23', 'feat24', 'feat25', 'feat26', 'feat27', 'feat28', 'feat29',\n",
    "       'feat30', 'feat31', 'feat32', 'feat33', 'feat34', 'feat35', 'feat36',\n",
    "       'feat37', 'feat38', 'feat39', 'feat40', 'feat41', 'feat42', 'feat43',\n",
    "       'feat44', 'feat45', 'feat46', 'feat47', 'feat48', 'feat49', 'feat50',\n",
    "       'feat51', 'feat52', 'feat53', 'feat54', 'feat55', 'feat56', 'feat57',\n",
    "       'feat58', 'feat59', 'feat60']\n",
    "    \n",
    "    # Get the current frame\n",
    "    frame = controller.frame()\n",
    "    \n",
    "    if not blocking and len(frame.fingers) == 0:\n",
    "        return None\n",
    "    while len(frame.fingers) == 0:\n",
    "        frame = controller.frame()\n",
    "\n",
    "    fingers = controller.frame().fingers\n",
    "    finger_bones = []\n",
    "    for finger in fingers:\n",
    "        finger_bones.append(finger.bone(Bone.TYPE_METACARPAL).next_joint)\n",
    "        finger_bones.append(finger.bone(Bone.TYPE_PROXIMAL).next_joint)\n",
    "        finger_bones.append(finger.bone(Bone.TYPE_INTERMEDIATE).next_joint)\n",
    "        finger_bones.append(finger.bone(Bone.TYPE_DISTAL).next_joint)\n",
    "    \n",
    "    # Possible issue when more than one hand\n",
    "    hands = controller.frame().hands\n",
    "    hand_center = 0\n",
    "    for hand in hands:\n",
    "        hand_center = hand.palm_position\n",
    "\n",
    "    # Calibrated_finger_bones = collections.OrderedDict()\n",
    "    calibrated_finger_bones = []\n",
    "    for i in range(len(finger_bones)):\n",
    "        normalized_joint = (finger_bones[i] - hand_center).to_tuple()\n",
    "        for j in range(3):\n",
    "            calibrated_finger_bones.append(normalized_joint[j])\n",
    "    \n",
    "    # Open a CSV file and write the data\n",
    "    csv_header = list(range(1, 61))\n",
    "    file_handle = open(\"data_1.csv\", \"w\")\n",
    "    csv_writer = csv.DictWriter(file_handle, csv_header)\n",
    "    data_dict = {}\n",
    "    for index, value in enumerate(cols_to_norm, 1):\n",
    "        data_dict[index] = value\n",
    "    csv_writer.writerow(data_dict)\n",
    "    file_handle.close()\n",
    "\n",
    "    # Open a CSV file and write the header\n",
    "    csv_header = list(range(1, 61))\n",
    "    file_handle = open(\"data_1.csv\", \"a+\")\n",
    "    csv_writer = csv.DictWriter(file_handle, csv_header)\n",
    "    data_dict = {}\n",
    "    for index, value in enumerate(calibrated_finger_bones, 1):\n",
    "        data_dict[index] = value\n",
    "    csv_writer.writerow(data_dict)\n",
    "    \n",
    "    file_handle.close()\n",
    "\n",
    "\n",
    "if __name__ == \"__main__\":\n",
    "\n",
    "    controller = Leap.Controller()\n",
    "\n",
    "    while True:\n",
    "        get_hand_position(controller)\n",
    "        time.sleep(2)"
   ]
  }
 ],
 "metadata": {
  "kernelspec": {
   "display_name": "Python 2",
   "language": "python",
   "name": "python2"
  },
  "language_info": {
   "codemirror_mode": {
    "name": "ipython",
    "version": 3
   },
   "file_extension": ".py",
   "mimetype": "text/x-python",
   "name": "python",
   "nbconvert_exporter": "python",
   "pygments_lexer": "ipython3",
   "version": "3.6.8"
  },
  "latex_envs": {
   "LaTeX_envs_menu_present": true,
   "autoclose": false,
   "autocomplete": true,
   "bibliofile": "biblio.bib",
   "cite_by": "apalike",
   "current_citInitial": 1,
   "eqLabelWithNumbers": true,
   "eqNumInitial": 1,
   "hotkeys": {
    "equation": "Ctrl-E",
    "itemize": "Ctrl-I"
   },
   "labels_anchors": false,
   "latex_user_defs": false,
   "report_style_numbering": false,
   "user_envs_cfg": false
  },
  "toc": {
   "base_numbering": 1,
   "nav_menu": {},
   "number_sections": true,
   "sideBar": true,
   "skip_h1_title": false,
   "title_cell": "Table of Contents",
   "title_sidebar": "Contents",
   "toc_cell": false,
   "toc_position": {},
   "toc_section_display": true,
   "toc_window_display": false
  },
  "varInspector": {
   "cols": {
    "lenName": 16,
    "lenType": 16,
    "lenVar": 40
   },
   "kernels_config": {
    "python": {
     "delete_cmd_postfix": "",
     "delete_cmd_prefix": "del ",
     "library": "var_list.py",
     "varRefreshCmd": "print(var_dic_list())"
    },
    "r": {
     "delete_cmd_postfix": ") ",
     "delete_cmd_prefix": "rm(",
     "library": "var_list.r",
     "varRefreshCmd": "cat(var_dic_list()) "
    }
   },
   "types_to_exclude": [
    "module",
    "function",
    "builtin_function_or_method",
    "instance",
    "_Feature"
   ],
   "window_display": false
  }
 },
 "nbformat": 4,
 "nbformat_minor": 2
}
