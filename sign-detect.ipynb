{
 "cells": [
  {
   "cell_type": "code",
   "execution_count": null,
   "metadata": {},
   "outputs": [],
   "source": [
    "import tensorflow as tf\n",
    "import pandas as pd\n",
    "from sklearn.model_selection import train_test_split\n",
    "from gtts import gTTS\n",
    "import os\n",
    "\n",
    "data = pd.read_csv(\"data.csv\")\n",
    "\n",
    "cols_to_norm = ['feat1', 'feat2', 'feat3', 'feat4', 'feat5', 'feat6', 'feat7', 'feat8',\n",
    "       'feat9', 'feat10', 'feat11', 'feat12', 'feat13', 'feat14', 'feat15',\n",
    "       'feat16', 'feat17', 'feat18', 'feat19', 'feat20', 'feat21', 'feat22',\n",
    "       'feat23', 'feat24', 'feat25', 'feat26', 'feat27', 'feat28', 'feat29',\n",
    "       'feat30', 'feat31', 'feat32', 'feat33', 'feat34', 'feat35', 'feat36',\n",
    "       'feat37', 'feat38', 'feat39', 'feat40', 'feat41', 'feat42', 'feat43',\n",
    "       'feat44', 'feat45', 'feat46', 'feat47', 'feat48', 'feat49', 'feat50',\n",
    "       'feat51', 'feat52', 'feat53', 'feat54', 'feat55', 'feat56', 'feat57',\n",
    "       'feat58', 'feat59', 'feat60']\n",
    "\n",
    "feat_cols =[]\n",
    "\n",
    "for feat1 in cols_to_norm:\n",
    "\tfeat_cols.append(tf.feature_column.numeric_column(feat1))\n",
    "\n",
    "x_data = data.drop('label',axis=1)\n",
    "labels = data['label']\n",
    "\n",
    "X_train, X_test, y_train, y_test = train_test_split(x_data,labels,test_size=0.33, random_state=101)\n",
    "input_func = tf.estimator.inputs.pandas_input_fn(x=X_train,y=y_train,batch_size=10,num_epochs=1000,shuffle=True)\n",
    "model = tf.estimator.DNNClassifier(hidden_units=[10,10,10],feature_columns=feat_cols,n_classes=3)\n",
    "model.train(input_fn=input_func,steps=1000)\n",
    "\n",
    "eval_input_func = tf.estimator.inputs.pandas_input_fn(\n",
    "      x=X_test,\n",
    "      y=y_test,\n",
    "      batch_size=10,\n",
    "      num_epochs=1,\n",
    "      shuffle=False)\n",
    "\n",
    "results = model.evaluate(eval_input_func)\n",
    "results"
   ]
  },
  {
   "cell_type": "code",
   "execution_count": null,
   "metadata": {},
   "outputs": [],
   "source": [
    "df1 = pd.read_csv(\"test.csv\")\n",
    "\n",
    "pred_input_func = tf.estimator.inputs.pandas_input_fn(\n",
    "        x = df1,\n",
    "        batch_size=1,\n",
    "        num_epochs=1,\n",
    "        shuffle=False)\n",
    "predictions = model.predict(pred_input_func)\n",
    "myList = list(predictions)\n",
    "print(myList)\n",
    "for d in myList:\n",
    "    cls = (d['classes'])\n",
    "    print(cls)\n",
    "if cls==[b'2']:\n",
    "    print('hi')\n",
    "    os.system(\"hi.mp3\")\n",
    "if cls==[b'0']:\n",
    "    print('call')\n",
    "    os.system(\"icall.mp3\")\n",
    "if cls==[b'1']:\n",
    "    print('peace')\n",
    "    os.system(\"ipeace.mp3\")"
   ]
  },
  {
   "cell_type": "code",
   "execution_count": null,
   "metadata": {},
   "outputs": [],
   "source": [
    "mytext = 'Peace'\n",
    "language = 'en'\n",
    "myobj = gTTS(text=mytext, lang=language, slow=True)\n",
    "myobj.save(\"ipeace.mp3\")\n",
    "os.system(\"ipeace.mp3\")"
   ]
  }
 ],
 "metadata": {
  "kernelspec": {
   "display_name": "Python 3",
   "language": "python",
   "name": "python3"
  },
  "language_info": {
   "codemirror_mode": {
    "name": "ipython",
    "version": 3
   },
   "file_extension": ".py",
   "mimetype": "text/x-python",
   "name": "python",
   "nbconvert_exporter": "python",
   "pygments_lexer": "ipython3",
   "version": "3.6.8"
  },
  "latex_envs": {
   "LaTeX_envs_menu_present": true,
   "autoclose": false,
   "autocomplete": true,
   "bibliofile": "biblio.bib",
   "cite_by": "apalike",
   "current_citInitial": 1,
   "eqLabelWithNumbers": true,
   "eqNumInitial": 1,
   "hotkeys": {
    "equation": "Ctrl-E",
    "itemize": "Ctrl-I"
   },
   "labels_anchors": false,
   "latex_user_defs": false,
   "report_style_numbering": false,
   "user_envs_cfg": false
  },
  "toc": {
   "base_numbering": 1,
   "nav_menu": {},
   "number_sections": true,
   "sideBar": true,
   "skip_h1_title": false,
   "title_cell": "Table of Contents",
   "title_sidebar": "Contents",
   "toc_cell": false,
   "toc_position": {},
   "toc_section_display": true,
   "toc_window_display": false
  },
  "varInspector": {
   "cols": {
    "lenName": 16,
    "lenType": 16,
    "lenVar": 40
   },
   "kernels_config": {
    "python": {
     "delete_cmd_postfix": "",
     "delete_cmd_prefix": "del ",
     "library": "var_list.py",
     "varRefreshCmd": "print(var_dic_list())"
    },
    "r": {
     "delete_cmd_postfix": ") ",
     "delete_cmd_prefix": "rm(",
     "library": "var_list.r",
     "varRefreshCmd": "cat(var_dic_list()) "
    }
   },
   "types_to_exclude": [
    "module",
    "function",
    "builtin_function_or_method",
    "instance",
    "_Feature"
   ],
   "window_display": false
  }
 },
 "nbformat": 4,
 "nbformat_minor": 2
}
